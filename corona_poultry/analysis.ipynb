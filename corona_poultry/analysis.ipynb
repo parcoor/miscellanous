{
 "cells": [
  {
   "cell_type": "markdown",
   "metadata": {},
   "source": [
    "# Chicken consumption and Covid-19 incidence by country\n",
    "The goal of this notebook is to analyse a possible relation between poultry (chicken) production/consumption and the incidence of Covid-19 in world countries"
   ]
  },
  {
   "cell_type": "code",
   "execution_count": 1,
   "metadata": {},
   "outputs": [],
   "source": [
    "import os\n",
    "import pandas as pd\n",
    "import matplotlib.pyplot as plt\n",
    "from sklearn.linear_model import LinearRegression\n",
    "import statsmodels.api as sm"
   ]
  },
  {
   "cell_type": "markdown",
   "metadata": {},
   "source": [
    "The dataframe has been generated [here](preprocessing.ipynb) and we load it:"
   ]
  },
  {
   "cell_type": "code",
   "execution_count": 2,
   "metadata": {},
   "outputs": [
    {
     "data": {
      "text/html": [
       "<div>\n",
       "<style scoped>\n",
       "    .dataframe tbody tr th:only-of-type {\n",
       "        vertical-align: middle;\n",
       "    }\n",
       "\n",
       "    .dataframe tbody tr th {\n",
       "        vertical-align: top;\n",
       "    }\n",
       "\n",
       "    .dataframe thead th {\n",
       "        text-align: right;\n",
       "    }\n",
       "</style>\n",
       "<table border=\"1\" class=\"dataframe\">\n",
       "  <thead>\n",
       "    <tr style=\"text-align: right;\">\n",
       "      <th></th>\n",
       "      <th>Code</th>\n",
       "      <th>Year</th>\n",
       "      <th>production</th>\n",
       "      <th>country</th>\n",
       "      <th>sum_of_cases</th>\n",
       "      <th>sum_of_deaths</th>\n",
       "      <th>confirmed_cases_in_the_last_14_days</th>\n",
       "      <th>population</th>\n",
       "      <th>yearly_change</th>\n",
       "      <th>netchange</th>\n",
       "      <th>density</th>\n",
       "      <th>landarea</th>\n",
       "      <th>migrants</th>\n",
       "      <th>fert_rate</th>\n",
       "      <th>med_age</th>\n",
       "      <th>urban_pop_perc</th>\n",
       "      <th>worldshare</th>\n",
       "      <th>consumption</th>\n",
       "    </tr>\n",
       "  </thead>\n",
       "  <tbody>\n",
       "    <tr>\n",
       "      <th>0</th>\n",
       "      <td>AFG</td>\n",
       "      <td>2018</td>\n",
       "      <td>28850</td>\n",
       "      <td>Afghanistan</td>\n",
       "      <td>37599.0</td>\n",
       "      <td>1375.0</td>\n",
       "      <td>770.0</td>\n",
       "      <td>38928346</td>\n",
       "      <td>2.33</td>\n",
       "      <td>886592</td>\n",
       "      <td>60</td>\n",
       "      <td>652860</td>\n",
       "      <td>-62920</td>\n",
       "      <td>4.6</td>\n",
       "      <td>18</td>\n",
       "      <td>25</td>\n",
       "      <td>0.50</td>\n",
       "      <td>NaN</td>\n",
       "    </tr>\n",
       "    <tr>\n",
       "      <th>1</th>\n",
       "      <td>ALB</td>\n",
       "      <td>2018</td>\n",
       "      <td>15587</td>\n",
       "      <td>Albania</td>\n",
       "      <td>7654.0</td>\n",
       "      <td>232.0</td>\n",
       "      <td>1904.0</td>\n",
       "      <td>2877797</td>\n",
       "      <td>-0.11</td>\n",
       "      <td>-3120</td>\n",
       "      <td>105</td>\n",
       "      <td>27400</td>\n",
       "      <td>-14000</td>\n",
       "      <td>1.6</td>\n",
       "      <td>36</td>\n",
       "      <td>63</td>\n",
       "      <td>0.04</td>\n",
       "      <td>NaN</td>\n",
       "    </tr>\n",
       "    <tr>\n",
       "      <th>2</th>\n",
       "      <td>DZA</td>\n",
       "      <td>2018</td>\n",
       "      <td>294663</td>\n",
       "      <td>Algeria</td>\n",
       "      <td>39444.0</td>\n",
       "      <td>1391.0</td>\n",
       "      <td>6940.0</td>\n",
       "      <td>43851044</td>\n",
       "      <td>1.85</td>\n",
       "      <td>797990</td>\n",
       "      <td>18</td>\n",
       "      <td>2381740</td>\n",
       "      <td>-10000</td>\n",
       "      <td>3.1</td>\n",
       "      <td>29</td>\n",
       "      <td>73</td>\n",
       "      <td>0.56</td>\n",
       "      <td>6.281003</td>\n",
       "    </tr>\n",
       "    <tr>\n",
       "      <th>3</th>\n",
       "      <td>AGO</td>\n",
       "      <td>2018</td>\n",
       "      <td>27208</td>\n",
       "      <td>Angola</td>\n",
       "      <td>1966.0</td>\n",
       "      <td>90.0</td>\n",
       "      <td>802.0</td>\n",
       "      <td>32866272</td>\n",
       "      <td>3.27</td>\n",
       "      <td>1040977</td>\n",
       "      <td>26</td>\n",
       "      <td>1246700</td>\n",
       "      <td>6413</td>\n",
       "      <td>5.6</td>\n",
       "      <td>17</td>\n",
       "      <td>67</td>\n",
       "      <td>0.42</td>\n",
       "      <td>NaN</td>\n",
       "    </tr>\n",
       "    <tr>\n",
       "      <th>4</th>\n",
       "      <td>ATG</td>\n",
       "      <td>2018</td>\n",
       "      <td>96</td>\n",
       "      <td>Antigua and Barbuda</td>\n",
       "      <td>93.0</td>\n",
       "      <td>3.0</td>\n",
       "      <td>1.0</td>\n",
       "      <td>97929</td>\n",
       "      <td>0.84</td>\n",
       "      <td>811</td>\n",
       "      <td>223</td>\n",
       "      <td>440</td>\n",
       "      <td>0</td>\n",
       "      <td>2.0</td>\n",
       "      <td>34</td>\n",
       "      <td>26</td>\n",
       "      <td>0.00</td>\n",
       "      <td>NaN</td>\n",
       "    </tr>\n",
       "  </tbody>\n",
       "</table>\n",
       "</div>"
      ],
      "text/plain": [
       "  Code  Year  production              country  sum_of_cases  sum_of_deaths  \\\n",
       "0  AFG  2018       28850          Afghanistan       37599.0         1375.0   \n",
       "1  ALB  2018       15587              Albania        7654.0          232.0   \n",
       "2  DZA  2018      294663              Algeria       39444.0         1391.0   \n",
       "3  AGO  2018       27208               Angola        1966.0           90.0   \n",
       "4  ATG  2018          96  Antigua and Barbuda          93.0            3.0   \n",
       "\n",
       "   confirmed_cases_in_the_last_14_days  population  yearly_change  netchange  \\\n",
       "0                                770.0    38928346           2.33     886592   \n",
       "1                               1904.0     2877797          -0.11      -3120   \n",
       "2                               6940.0    43851044           1.85     797990   \n",
       "3                                802.0    32866272           3.27    1040977   \n",
       "4                                  1.0       97929           0.84        811   \n",
       "\n",
       "   density  landarea migrants fert_rate  med_age urban_pop_perc  worldshare  \\\n",
       "0       60    652860   -62920       4.6       18             25        0.50   \n",
       "1      105     27400   -14000       1.6       36             63        0.04   \n",
       "2       18   2381740   -10000       3.1       29             73        0.56   \n",
       "3       26   1246700     6413       5.6       17             67        0.42   \n",
       "4      223       440        0       2.0       34             26        0.00   \n",
       "\n",
       "   consumption  \n",
       "0          NaN  \n",
       "1          NaN  \n",
       "2     6.281003  \n",
       "3          NaN  \n",
       "4          NaN  "
      ]
     },
     "execution_count": 2,
     "metadata": {},
     "output_type": "execute_result"
    }
   ],
   "source": [
    "df = pd.read_csv(os.path.join('data', 'poultry.csv'))\n",
    "df.head()"
   ]
  },
  {
   "cell_type": "markdown",
   "metadata": {},
   "source": [
    "Normalize relevant features by population:"
   ]
  },
  {
   "cell_type": "code",
   "execution_count": 3,
   "metadata": {},
   "outputs": [],
   "source": [
    "df = df.rename(columns={'sum_of_deaths': 'confirmed_deaths', 'sum_of_cases': 'confirmed_cases'})\n",
    "df['confirmed_deaths'] = df['confirmed_deaths'] / df['population'] * 1000000\n",
    "df['confirmed_cases'] = df['confirmed_cases'] / df['population'] * 1000000\n",
    "df['production'] = df['production'] / df['population'] * 1000"
   ]
  },
  {
   "cell_type": "markdown",
   "metadata": {},
   "source": [
    "## Chicken prodution X confirmed cases\n",
    "The number of confirmed cases is an indicator, though not ideal, since it depends also on the intensity of the test policy in each country."
   ]
  },
  {
   "cell_type": "code",
   "execution_count": 4,
   "metadata": {},
   "outputs": [
    {
     "data": {
      "text/plain": [
       "[]"
      ]
     },
     "execution_count": 4,
     "metadata": {},
     "output_type": "execute_result"
    },
    {
     "data": {
      "image/png": "[encoded data removed]",
      "text/plain": [
       "<Figure size 864x864 with 1 Axes>"
      ]
     },
     "metadata": {
      "needs_background": "light"
     },
     "output_type": "display_data"
    }
   ],
   "source": [
    "fig, ax = plt.subplots(figsize=(12, 12))\n",
    "ax.scatter(df['production'].values, df['confirmed_cases'].values)\n",
    "ax.set_xlabel('Poultry production (kg/capita in 2018)')\n",
    "ax.set_ylabel('Number of confirmed cases (per million inhabitant)')\n",
    "ax.set_title('Number of Covid-19 confirmed cases by Poultry Production for various countries', fontsize=15)\n",
    "\n",
    "plt.plot()"
   ]
  },
  {
   "cell_type": "markdown",
   "metadata": {},
   "source": [
    "On the bottom left we see a cluster of countries with low chicken production and low number of confirmed cases. There are however some outliers with \n",
    "1. high production but low number of confirmed cases (along the x-axis on the bottom)\n",
    "2. low production but high number of cases (along the y-axis on the right)\n",
    "\n",
    "\n",
    "Let's have a look at the 1st kind of outliers:"
   ]
  },
  {
   "cell_type": "code",
   "execution_count": 5,
   "metadata": {},
   "outputs": [
    {
     "data": {
      "text/plain": [
       "[]"
      ]
     },
     "execution_count": 5,
     "metadata": {},
     "output_type": "execute_result"
    }
   ],
   "source": [
    "outliers1 = df[(df['confirmed_cases'] <= 1000) & (df['production'] >= 10000)]['country'].values.tolist()\n",
    "outliers1"
   ]
  },
  {
   "cell_type": "markdown",
   "metadata": {},
   "source": [
    "Many of them are countries that took early drastical measures against Covid-19 (China, Taiwan, South Korea) or that implemented very early lockdown (Greece, Slovakia, New Zealand...)\n",
    "\n",
    "Now let's have a look on the second kind of outliers:"
   ]
  },
  {
   "cell_type": "code",
   "execution_count": 6,
   "metadata": {},
   "outputs": [
    {
     "data": {
      "text/plain": [
       "['Albania',\n",
       " 'Argentina',\n",
       " 'Armenia',\n",
       " 'Austria',\n",
       " 'Azerbaijan',\n",
       " 'Bahamas',\n",
       " 'Bahrain',\n",
       " 'Belarus',\n",
       " 'Belgium',\n",
       " 'Bermuda',\n",
       " 'Bolivia',\n",
       " 'Bosnia and Herzegovina',\n",
       " 'Brazil',\n",
       " 'Canada',\n",
       " 'Chile',\n",
       " 'Colombia',\n",
       " 'Costa Rica',\n",
       " 'Denmark',\n",
       " 'Dominican Republic',\n",
       " 'Ecuador',\n",
       " 'El Salvador',\n",
       " 'Equatorial Guinea',\n",
       " 'France',\n",
       " 'Gabon',\n",
       " 'Germany',\n",
       " 'Guam',\n",
       " 'Guatemala',\n",
       " 'Honduras',\n",
       " 'Iceland',\n",
       " 'Iran',\n",
       " 'Iraq',\n",
       " 'Ireland',\n",
       " 'Israel',\n",
       " 'Italy',\n",
       " 'Kazakhstan',\n",
       " 'Kuwait',\n",
       " 'Kyrgyzstan',\n",
       " 'Luxembourg',\n",
       " 'Malta',\n",
       " 'Mexico',\n",
       " 'Moldova',\n",
       " 'Montenegro',\n",
       " 'Montserrat',\n",
       " 'Netherlands',\n",
       " 'Oman',\n",
       " 'Panama',\n",
       " 'Peru',\n",
       " 'Portugal',\n",
       " 'Puerto Rico',\n",
       " 'Qatar',\n",
       " 'Romania',\n",
       " 'Russia',\n",
       " 'Saudi Arabia',\n",
       " 'Serbia',\n",
       " 'Singapore',\n",
       " 'South Africa',\n",
       " 'Spain',\n",
       " 'Suriname',\n",
       " 'Eswatini',\n",
       " 'Sweden',\n",
       " 'Switzerland',\n",
       " 'Turkey',\n",
       " 'United Arab Emirates',\n",
       " 'United Kingdom',\n",
       " 'United States']"
      ]
     },
     "execution_count": 6,
     "metadata": {},
     "output_type": "execute_result"
    }
   ],
   "source": [
    "outliers2 = df[(df['confirmed_cases'] >= 2500) & (df['production'] <= 2500)]['country'].values.tolist()\n",
    "outliers2"
   ]
  },
  {
   "cell_type": "markdown",
   "metadata": {},
   "source": [
    "Luxembourg is a small countries with many workers from neighbouring countries commuting there for work.\n",
    "\n",
    "Let's remove those outliers:"
   ]
  },
  {
   "cell_type": "code",
   "execution_count": 7,
   "metadata": {},
   "outputs": [],
   "source": [
    "outliers = outliers1 + outliers2"
   ]
  },
  {
   "cell_type": "code",
   "execution_count": 8,
   "metadata": {},
   "outputs": [],
   "source": [
    "df_no_outliers = df.loc[~df['country'].isin(outliers)]"
   ]
  },
  {
   "cell_type": "code",
   "execution_count": 9,
   "metadata": {},
   "outputs": [
    {
     "data": {
      "text/plain": [
       "[]"
      ]
     },
     "execution_count": 9,
     "metadata": {},
     "output_type": "execute_result"
    },
    {
     "data": {
      "image/png": "[encoded data removed]",
      "text/plain": [
       "<Figure size 864x864 with 1 Axes>"
      ]
     },
     "metadata": {
      "needs_background": "light"
     },
     "output_type": "display_data"
    }
   ],
   "source": [
    "linear_regressor = LinearRegression(fit_intercept=False, normalize=True)\n",
    "X = df_no_outliers['production'].values.reshape(-1, 1)\n",
    "y = df_no_outliers['confirmed_cases'].values.reshape(-1, 1)\n",
    "linear_regressor.fit(X, y)\n",
    "y_pred = linear_regressor.predict(X)\n",
    "\n",
    "\n",
    "fig, ax = plt.subplots(figsize=(12, 12))\n",
    "ax.scatter(df_no_outliers['production'].values, df_no_outliers['confirmed_cases'].values)\n",
    "ax.plot(df_no_outliers['production'].values, y_pred, c='red')\n",
    "ax.set_xlabel('Poultry production (kg/capita in 2018)')\n",
    "ax.set_ylabel('Number of confirmed cases (per million inhabitant)')\n",
    "ax.set_title('Number of Covid-19 confirmed cases by Poultry Production for various countries', fontsize=15)\n",
    "\n",
    "plt.plot()"
   ]
  },
  {
   "cell_type": "markdown",
   "metadata": {},
   "source": [
    "Statistical analysis of this linear regression:"
   ]
  },
  {
   "cell_type": "code",
   "execution_count": 10,
   "metadata": {},
   "outputs": [
    {
     "data": {
      "text/html": [
       "<table class=\"simpletable\">\n",
       "<caption>OLS Regression Results</caption>\n",
       "<tr>\n",
       "  <th>Dep. Variable:</th>            <td>y</td>        <th>  R-squared (uncentered):</th>      <td>   0.292</td>\n",
       "</tr>\n",
       "<tr>\n",
       "  <th>Model:</th>                   <td>OLS</td>       <th>  Adj. R-squared (uncentered):</th> <td>   0.286</td>\n",
       "</tr>\n",
       "<tr>\n",
       "  <th>Method:</th>             <td>Least Squares</td>  <th>  F-statistic:       </th>          <td>   44.98</td>\n",
       "</tr>\n",
       "<tr>\n",
       "  <th>Date:</th>             <td>Sun, 23 Aug 2020</td> <th>  Prob (F-statistic):</th>          <td>9.20e-10</td>\n",
       "</tr>\n",
       "<tr>\n",
       "  <th>Time:</th>                 <td>05:24:42</td>     <th>  Log-Likelihood:    </th>          <td> -471.96</td>\n",
       "</tr>\n",
       "<tr>\n",
       "  <th>No. Observations:</th>      <td>   110</td>      <th>  AIC:               </th>          <td>   945.9</td>\n",
       "</tr>\n",
       "<tr>\n",
       "  <th>Df Residuals:</th>          <td>   109</td>      <th>  BIC:               </th>          <td>   948.6</td>\n",
       "</tr>\n",
       "<tr>\n",
       "  <th>Df Model:</th>              <td>     1</td>      <th>                     </th>              <td> </td>   \n",
       "</tr>\n",
       "<tr>\n",
       "  <th>Covariance Type:</th>      <td>nonrobust</td>    <th>                     </th>              <td> </td>   \n",
       "</tr>\n",
       "</table>\n",
       "<table class=\"simpletable\">\n",
       "<tr>\n",
       "   <td></td>     <th>coef</th>     <th>std err</th>      <th>t</th>      <th>P>|t|</th>  <th>[0.025</th>    <th>0.975]</th>  \n",
       "</tr>\n",
       "<tr>\n",
       "  <th>x1</th> <td>    0.0133</td> <td>    0.002</td> <td>    6.707</td> <td> 0.000</td> <td>    0.009</td> <td>    0.017</td>\n",
       "</tr>\n",
       "</table>\n",
       "<table class=\"simpletable\">\n",
       "<tr>\n",
       "  <th>Omnibus:</th>       <td>26.407</td> <th>  Durbin-Watson:     </th> <td>   2.161</td>\n",
       "</tr>\n",
       "<tr>\n",
       "  <th>Prob(Omnibus):</th> <td> 0.000</td> <th>  Jarque-Bera (JB):  </th> <td>  35.660</td>\n",
       "</tr>\n",
       "<tr>\n",
       "  <th>Skew:</th>          <td> 1.288</td> <th>  Prob(JB):          </th> <td>1.81e-08</td>\n",
       "</tr>\n",
       "<tr>\n",
       "  <th>Kurtosis:</th>      <td> 4.069</td> <th>  Cond. No.          </th> <td>    1.00</td>\n",
       "</tr>\n",
       "</table><br/><br/>Warnings:<br/>[1] Standard Errors assume that the covariance matrix of the errors is correctly specified."
      ],
      "text/plain": [
       "<class 'statsmodels.iolib.summary.Summary'>\n",
       "\"\"\"\n",
       "                                 OLS Regression Results                                \n",
       "=======================================================================================\n",
       "Dep. Variable:                      y   R-squared (uncentered):                   0.292\n",
       "Model:                            OLS   Adj. R-squared (uncentered):              0.286\n",
       "Method:                 Least Squares   F-statistic:                              44.98\n",
       "Date:                Sun, 23 Aug 2020   Prob (F-statistic):                    9.20e-10\n",
       "Time:                        05:24:42   Log-Likelihood:                         -471.96\n",
       "No. Observations:                 110   AIC:                                      945.9\n",
       "Df Residuals:                     109   BIC:                                      948.6\n",
       "Df Model:                           1                                                  \n",
       "Covariance Type:            nonrobust                                                  \n",
       "==============================================================================\n",
       "                 coef    std err          t      P>|t|      [0.025      0.975]\n",
       "------------------------------------------------------------------------------\n",
       "x1             0.0133      0.002      6.707      0.000       0.009       0.017\n",
       "==============================================================================\n",
       "Omnibus:                       26.407   Durbin-Watson:                   2.161\n",
       "Prob(Omnibus):                  0.000   Jarque-Bera (JB):               35.660\n",
       "Skew:                           1.288   Prob(JB):                     1.81e-08\n",
       "Kurtosis:                       4.069   Cond. No.                         1.00\n",
       "==============================================================================\n",
       "\n",
       "Warnings:\n",
       "[1] Standard Errors assume that the covariance matrix of the errors is correctly specified.\n",
       "\"\"\""
      ]
     },
     "execution_count": 10,
     "metadata": {},
     "output_type": "execute_result"
    }
   ],
   "source": [
    "mod = sm.OLS(X, y)\n",
    "res = mod.fit()\n",
    "res.summary()"
   ]
  },
  {
   "cell_type": "markdown",
   "metadata": {},
   "source": [
    "The [F-statistic](https://blog.minitab.com/blog/adventures-in-statistics-2/understanding-analysis-of-variance-anova-and-the-f-test) is good, the [R-squared](https://corporatefinanceinstitute.com/resources/knowledge/other/r-squared/) pretty low."
   ]
  },
  {
   "cell_type": "markdown",
   "metadata": {},
   "source": [
    "## Chicken prodution X confirmed deaths\n",
    "The number of confirmed deaths is also biased, it depends on what is considered as a Covid-19 related death is the various countries (some include all deaths of patients having Covid-19, others only deaths with Covid-19 is established as the cause), but still it's a better indicator than the number of confirmed cases."
   ]
  },
  {
   "cell_type": "code",
   "execution_count": 11,
   "metadata": {},
   "outputs": [
    {
     "data": {
      "text/plain": [
       "[]"
      ]
     },
     "execution_count": 11,
     "metadata": {},
     "output_type": "execute_result"
    },
    {
     "data": {
      "image/png": "[encoded data removed]",
      "text/plain": [
       "<Figure size 864x864 with 1 Axes>"
      ]
     },
     "metadata": {
      "needs_background": "light"
     },
     "output_type": "display_data"
    }
   ],
   "source": [
    "linear_regressor = LinearRegression(fit_intercept=False, normalize=True)\n",
    "X = df_no_outliers['production'].values.reshape(-1, 1)\n",
    "y = df_no_outliers['confirmed_deaths'].values.reshape(-1, 1)\n",
    "linear_regressor.fit(X, y)\n",
    "y_pred = linear_regressor.predict(X)\n",
    "\n",
    "fig, ax = plt.subplots(figsize=(12, 12))\n",
    "ax.scatter(df_no_outliers['production'].values, df_no_outliers['confirmed_deaths'].values)\n",
    "ax.plot(df_no_outliers['production'].values, y_pred, c='red')\n",
    "\n",
    "plt.plot()"
   ]
  },
  {
   "cell_type": "markdown",
   "metadata": {},
   "source": [
    "Statistical analysis of this linear regression:"
   ]
  },
  {
   "cell_type": "code",
   "execution_count": 12,
   "metadata": {},
   "outputs": [
    {
     "data": {
      "text/html": [
       "<table class=\"simpletable\">\n",
       "<caption>OLS Regression Results</caption>\n",
       "<tr>\n",
       "  <th>Dep. Variable:</th>            <td>y</td>        <th>  R-squared (uncentered):</th>      <td>   0.337</td>\n",
       "</tr>\n",
       "<tr>\n",
       "  <th>Model:</th>                   <td>OLS</td>       <th>  Adj. R-squared (uncentered):</th> <td>   0.331</td>\n",
       "</tr>\n",
       "<tr>\n",
       "  <th>Method:</th>             <td>Least Squares</td>  <th>  F-statistic:       </th>          <td>   55.39</td>\n",
       "</tr>\n",
       "<tr>\n",
       "  <th>Date:</th>             <td>Sun, 23 Aug 2020</td> <th>  Prob (F-statistic):</th>          <td>2.43e-11</td>\n",
       "</tr>\n",
       "<tr>\n",
       "  <th>Time:</th>                 <td>05:24:43</td>     <th>  Log-Likelihood:    </th>          <td> -468.36</td>\n",
       "</tr>\n",
       "<tr>\n",
       "  <th>No. Observations:</th>      <td>   110</td>      <th>  AIC:               </th>          <td>   938.7</td>\n",
       "</tr>\n",
       "<tr>\n",
       "  <th>Df Residuals:</th>          <td>   109</td>      <th>  BIC:               </th>          <td>   941.4</td>\n",
       "</tr>\n",
       "<tr>\n",
       "  <th>Df Model:</th>              <td>     1</td>      <th>                     </th>              <td> </td>   \n",
       "</tr>\n",
       "<tr>\n",
       "  <th>Covariance Type:</th>      <td>nonrobust</td>    <th>                     </th>              <td> </td>   \n",
       "</tr>\n",
       "</table>\n",
       "<table class=\"simpletable\">\n",
       "<tr>\n",
       "   <td></td>     <th>coef</th>     <th>std err</th>      <th>t</th>      <th>P>|t|</th>  <th>[0.025</th>    <th>0.975]</th>  \n",
       "</tr>\n",
       "<tr>\n",
       "  <th>x1</th> <td>    0.5665</td> <td>    0.076</td> <td>    7.443</td> <td> 0.000</td> <td>    0.416</td> <td>    0.717</td>\n",
       "</tr>\n",
       "</table>\n",
       "<table class=\"simpletable\">\n",
       "<tr>\n",
       "  <th>Omnibus:</th>       <td>26.905</td> <th>  Durbin-Watson:     </th> <td>   2.024</td>\n",
       "</tr>\n",
       "<tr>\n",
       "  <th>Prob(Omnibus):</th> <td> 0.000</td> <th>  Jarque-Bera (JB):  </th> <td>  36.948</td>\n",
       "</tr>\n",
       "<tr>\n",
       "  <th>Skew:</th>          <td> 1.269</td> <th>  Prob(JB):          </th> <td>9.48e-09</td>\n",
       "</tr>\n",
       "<tr>\n",
       "  <th>Kurtosis:</th>      <td> 4.274</td> <th>  Cond. No.          </th> <td>    1.00</td>\n",
       "</tr>\n",
       "</table><br/><br/>Warnings:<br/>[1] Standard Errors assume that the covariance matrix of the errors is correctly specified."
      ],
      "text/plain": [
       "<class 'statsmodels.iolib.summary.Summary'>\n",
       "\"\"\"\n",
       "                                 OLS Regression Results                                \n",
       "=======================================================================================\n",
       "Dep. Variable:                      y   R-squared (uncentered):                   0.337\n",
       "Model:                            OLS   Adj. R-squared (uncentered):              0.331\n",
       "Method:                 Least Squares   F-statistic:                              55.39\n",
       "Date:                Sun, 23 Aug 2020   Prob (F-statistic):                    2.43e-11\n",
       "Time:                        05:24:43   Log-Likelihood:                         -468.36\n",
       "No. Observations:                 110   AIC:                                      938.7\n",
       "Df Residuals:                     109   BIC:                                      941.4\n",
       "Df Model:                           1                                                  \n",
       "Covariance Type:            nonrobust                                                  \n",
       "==============================================================================\n",
       "                 coef    std err          t      P>|t|      [0.025      0.975]\n",
       "------------------------------------------------------------------------------\n",
       "x1             0.5665      0.076      7.443      0.000       0.416       0.717\n",
       "==============================================================================\n",
       "Omnibus:                       26.905   Durbin-Watson:                   2.024\n",
       "Prob(Omnibus):                  0.000   Jarque-Bera (JB):               36.948\n",
       "Skew:                           1.269   Prob(JB):                     9.48e-09\n",
       "Kurtosis:                       4.274   Cond. No.                         1.00\n",
       "==============================================================================\n",
       "\n",
       "Warnings:\n",
       "[1] Standard Errors assume that the covariance matrix of the errors is correctly specified.\n",
       "\"\"\""
      ]
     },
     "execution_count": 12,
     "metadata": {},
     "output_type": "execute_result"
    }
   ],
   "source": [
    "mod = sm.OLS(X, y)\n",
    "res = mod.fit()\n",
    "res.summary()"
   ]
  },
  {
   "cell_type": "markdown",
   "metadata": {},
   "source": [
    "This time, with a better indicator, bot the F-statistics and the R-squared are much better, indicating a stronger relationship between poultry production and the target variable."
   ]
  },
  {
   "cell_type": "markdown",
   "metadata": {},
   "source": [
    "## Chicken consumption X confirmed deaths\n",
    "For the chicken consumption, we have data only for 41 countries."
   ]
  },
  {
   "cell_type": "code",
   "execution_count": 13,
   "metadata": {},
   "outputs": [],
   "source": [
    "df_consumption = df[df['consumption'].notna()]"
   ]
  },
  {
   "cell_type": "code",
   "execution_count": 14,
   "metadata": {},
   "outputs": [
    {
     "data": {
      "text/plain": [
       "[]"
      ]
     },
     "execution_count": 14,
     "metadata": {},
     "output_type": "execute_result"
    },
    {
     "data": {
      "image/png": "[encoded data removed]",
      "text/plain": [
       "<Figure size 864x864 with 1 Axes>"
      ]
     },
     "metadata": {
      "needs_background": "light"
     },
     "output_type": "display_data"
    }
   ],
   "source": [
    "linear_regressor = LinearRegression(fit_intercept=False, normalize=True)\n",
    "X = df_consumption['consumption'].values.reshape(-1, 1)\n",
    "y = df_consumption['confirmed_deaths'].values.reshape(-1, 1)\n",
    "linear_regressor.fit(X, y)\n",
    "y_pred = linear_regressor.predict(X)\n",
    "\n",
    "fig, ax = plt.subplots(figsize=(12, 12))\n",
    "ax.scatter(df_consumption['consumption'].values, df_consumption['confirmed_deaths'].values)\n",
    "ax.plot(df_consumption['consumption'].values, y_pred, c='red')\n",
    "ax.set_xlabel('Poultry consumption (kg/capita in 2018)')\n",
    "ax.set_ylabel('Number of confirmed deaths (per million inhabitant)')\n",
    "ax.set_title('Number of Covid-19 confirmed deaths by Poultry Consumption for various countries', fontsize=15)\n",
    "\n",
    "plt.plot()"
   ]
  },
  {
   "cell_type": "markdown",
   "metadata": {},
   "source": [
    "Note:\n",
    "* There is a cluster (on the bottom left) of countries with very low chicken consumption and very low number of confirmed cases.\n",
    "* below 25kg/year chicken consumption, almost all countries are below th regression line"
   ]
  },
  {
   "cell_type": "code",
   "execution_count": 15,
   "metadata": {},
   "outputs": [
    {
     "data": {
      "text/html": [
       "<table class=\"simpletable\">\n",
       "<caption>OLS Regression Results</caption>\n",
       "<tr>\n",
       "  <th>Dep. Variable:</th>            <td>y</td>        <th>  R-squared (uncentered):</th>      <td>   0.486</td>\n",
       "</tr>\n",
       "<tr>\n",
       "  <th>Model:</th>                   <td>OLS</td>       <th>  Adj. R-squared (uncentered):</th> <td>   0.473</td>\n",
       "</tr>\n",
       "<tr>\n",
       "  <th>Method:</th>             <td>Least Squares</td>  <th>  F-statistic:       </th>          <td>   37.79</td>\n",
       "</tr>\n",
       "<tr>\n",
       "  <th>Date:</th>             <td>Sun, 23 Aug 2020</td> <th>  Prob (F-statistic):</th>          <td>2.93e-07</td>\n",
       "</tr>\n",
       "<tr>\n",
       "  <th>Time:</th>                 <td>05:24:43</td>     <th>  Log-Likelihood:    </th>          <td> -177.02</td>\n",
       "</tr>\n",
       "<tr>\n",
       "  <th>No. Observations:</th>      <td>    41</td>      <th>  AIC:               </th>          <td>   356.0</td>\n",
       "</tr>\n",
       "<tr>\n",
       "  <th>Df Residuals:</th>          <td>    40</td>      <th>  BIC:               </th>          <td>   357.8</td>\n",
       "</tr>\n",
       "<tr>\n",
       "  <th>Df Model:</th>              <td>     1</td>      <th>                     </th>              <td> </td>   \n",
       "</tr>\n",
       "<tr>\n",
       "  <th>Covariance Type:</th>      <td>nonrobust</td>    <th>                     </th>              <td> </td>   \n",
       "</tr>\n",
       "</table>\n",
       "<table class=\"simpletable\">\n",
       "<tr>\n",
       "   <td></td>     <th>coef</th>     <th>std err</th>      <th>t</th>      <th>P>|t|</th>  <th>[0.025</th>    <th>0.975]</th>  \n",
       "</tr>\n",
       "<tr>\n",
       "  <th>x1</th> <td>    0.0795</td> <td>    0.013</td> <td>    6.147</td> <td> 0.000</td> <td>    0.053</td> <td>    0.106</td>\n",
       "</tr>\n",
       "</table>\n",
       "<table class=\"simpletable\">\n",
       "<tr>\n",
       "  <th>Omnibus:</th>       <td> 6.824</td> <th>  Durbin-Watson:     </th> <td>   1.362</td>\n",
       "</tr>\n",
       "<tr>\n",
       "  <th>Prob(Omnibus):</th> <td> 0.033</td> <th>  Jarque-Bera (JB):  </th> <td>   5.519</td>\n",
       "</tr>\n",
       "<tr>\n",
       "  <th>Skew:</th>          <td> 0.764</td> <th>  Prob(JB):          </th> <td>  0.0633</td>\n",
       "</tr>\n",
       "<tr>\n",
       "  <th>Kurtosis:</th>      <td> 3.945</td> <th>  Cond. No.          </th> <td>    1.00</td>\n",
       "</tr>\n",
       "</table><br/><br/>Warnings:<br/>[1] Standard Errors assume that the covariance matrix of the errors is correctly specified."
      ],
      "text/plain": [
       "<class 'statsmodels.iolib.summary.Summary'>\n",
       "\"\"\"\n",
       "                                 OLS Regression Results                                \n",
       "=======================================================================================\n",
       "Dep. Variable:                      y   R-squared (uncentered):                   0.486\n",
       "Model:                            OLS   Adj. R-squared (uncentered):              0.473\n",
       "Method:                 Least Squares   F-statistic:                              37.79\n",
       "Date:                Sun, 23 Aug 2020   Prob (F-statistic):                    2.93e-07\n",
       "Time:                        05:24:43   Log-Likelihood:                         -177.02\n",
       "No. Observations:                  41   AIC:                                      356.0\n",
       "Df Residuals:                      40   BIC:                                      357.8\n",
       "Df Model:                           1                                                  \n",
       "Covariance Type:            nonrobust                                                  \n",
       "==============================================================================\n",
       "                 coef    std err          t      P>|t|      [0.025      0.975]\n",
       "------------------------------------------------------------------------------\n",
       "x1             0.0795      0.013      6.147      0.000       0.053       0.106\n",
       "==============================================================================\n",
       "Omnibus:                        6.824   Durbin-Watson:                   1.362\n",
       "Prob(Omnibus):                  0.033   Jarque-Bera (JB):                5.519\n",
       "Skew:                           0.764   Prob(JB):                       0.0633\n",
       "Kurtosis:                       3.945   Cond. No.                         1.00\n",
       "==============================================================================\n",
       "\n",
       "Warnings:\n",
       "[1] Standard Errors assume that the covariance matrix of the errors is correctly specified.\n",
       "\"\"\""
      ]
     },
     "execution_count": 15,
     "metadata": {},
     "output_type": "execute_result"
    }
   ],
   "source": [
    "mod = sm.OLS(X, y)\n",
    "res = mod.fit()\n",
    "res.summary()"
   ]
  },
  {
   "cell_type": "markdown",
   "metadata": {},
   "source": [
    "## Conclusion\n",
    "There are pros and contras in considering chicken production/consumption as having an influence on the incidence of Covid-19.\n",
    "\n",
    "Pros:\n",
    "* The statistical relation is stronger with a more accurate target variable (confirmed deaths vs. confirmed cases)\n",
    "* The chicken production/consumption should be completely irrelevant, but looks statistically quite strong, despite of other factors having an obiously strong impact (sanitary measures like lockdown, health system quality etc.)\n",
    "\n",
    "Contra:\n",
    "* Correlation doesn't imply causality\n",
    "\n",
    "In general, it looks like for low chicken production/consumption, the incidence of Covid-19 in the population is also low. When the chicken production/consumption increases, the incidence is more scattered, but still with an increasing trend. An explanation could be that while poultry has an impact, it can be counter-balanced by other strong factors (sanitary measures)."
   ]
  }
 ],
 "metadata": {
  "kernelspec": {
   "display_name": "Python 3",
   "language": "python",
   "name": "python3"
  },
  "language_info": {
   "codemirror_mode": {
    "name": "ipython",
    "version": 3
   },
   "file_extension": ".py",
   "mimetype": "text/x-python",
   "name": "python",
   "nbconvert_exporter": "python",
   "pygments_lexer": "ipython3",
   "version": "3.6.9"
  }
 },
 "nbformat": 4,
 "nbformat_minor": 2
}
